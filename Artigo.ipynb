{
 "cells": [
  {
   "cell_type": "markdown",
   "id": "a3e4635e",
   "metadata": {},
   "source": [
    " # Hückel π simples em Piridina (C5H5N) \n",
    "# \n",
    " **Montar** a Hamiltoniana 6×6 do anel π da piridina (1 = N; 2…6 = C),\n",
    " diagonalizar com `numpy.linalg.eigh` (mesma abordagem dos sistemas de molas),\n",
    " ocupar 6 elétrons (2 por MO), identificar HOMO/LUMO, calcular E_gap,\n",
    " e obter populações por sítio `q_i` e ordens de ligação π `p_ij` (apenas 1º vizinhos).\n",
    " \n",
    " **Parâmetros (exatamente os do enunciado)**  \n",
    " α_C = 0.00, α_N = +0.50, β_CC = −1.00, β_CN = −0.90.  \n",
    " Energias em unidades de β_CC (β_CC = −1 define a unidade).\n",
    "\n",
    " Saídas: CSVs em `tables/` e figuras em `figures/` que foram usadas no Artigo"
   ]
  },
  {
   "cell_type": "code",
   "execution_count": 18,
   "id": "73b79381",
   "metadata": {},
   "outputs": [
    {
     "name": "stdout",
     "output_type": "stream",
     "text": [
      "Saídas serão gravadas em:\n",
      "  FIG: c:\\Users\\Gabriel Simarelli\\Desktop\\projeto\\Artigo\\figures\n",
      "  TAB: c:\\Users\\Gabriel Simarelli\\Desktop\\projeto\\Artigo\\tables\n"
     ]
    }
   ],
   "source": [
    "\n",
    "from pathlib import Path\n",
    "import numpy as np\n",
    "import matplotlib.pyplot as plt\n",
    "\n",
    "try:\n",
    "    import pandas as pd  # só para salvar tabelas com cabeçalhos bonitos\n",
    "    USE_PANDAS = True\n",
    "except Exception:\n",
    "    USE_PANDAS = False\n",
    "\n",
    "# Pastas de saída (criadas automaticamente)\n",
    "BASE = Path.cwd()\n",
    "FIG = BASE / \"figures\"\n",
    "TAB = BASE / \"tables\"\n",
    "FIG.mkdir(exist_ok=True)\n",
    "TAB.mkdir(exist_ok=True)\n",
    "\n",
    "print(\"Saídas serão gravadas em:\")\n",
    "print(\"  FIG:\", FIG)\n",
    "print(\"  TAB:\", TAB)\n",
    "\n"
   ]
  },
  {
   "cell_type": "markdown",
   "id": "76714cb2",
   "metadata": {},
   "source": [
    "\n",
    "## 1) Definição do modelo e Hamiltoniana H (6×6)\n",
    " - Base local |i⟩ com 6 sítios p_z (1 = N; 2…6 = C)\n",
    " - Vizinhança de 1ºs vizinhos: (1,2), (2,3), (3,4), (4,5), (5,6), (6,1)\n",
    " - Diagonais: H_11 = α_N; H_ii = α_C (i = 2…6)\n",
    " - Fora da diagonal **apenas** 1ºs vizinhos: β_CN quando envolve N–C; β_CC para C–C"
   ]
  },
  {
   "cell_type": "code",
   "execution_count": 19,
   "id": "37d4cbfe",
   "metadata": {},
   "outputs": [
    {
     "name": "stdout",
     "output_type": "stream",
     "text": [
      "Hamiltoniana H (unid. β_CC):\n",
      " [[ 0.5 -0.9  0.   0.   0.  -0.9]\n",
      " [-0.9  0.  -1.   0.   0.   0. ]\n",
      " [ 0.  -1.   0.  -1.   0.   0. ]\n",
      " [ 0.   0.  -1.   0.  -1.   0. ]\n",
      " [ 0.   0.   0.  -1.   0.  -1. ]\n",
      " [-0.9  0.   0.   0.  -1.   0. ]]\n"
     ]
    }
   ],
   "source": [
    "# Parâmetros fixos (exatamente os solicitados)\n",
    "ALPHA_C = 0.00\n",
    "ALPHA_N = +0.50\n",
    "BETA_CC = -1.00\n",
    "BETA_CN = -0.90\n",
    "\n",
    "# Topologia (1-based no enunciado; vamos guardar assim e converter para 0-based no código)\n",
    "NEIGHBORS_1BASED = [(1,2), (2,3), (3,4), (4,5), (5,6), (6,1)]\n",
    "\n",
    "SITE_TYPES = {1: \"N\", 2: \"C\", 3: \"C\", 4: \"C\", 5: \"C\", 6: \"C\"}\n",
    "\n",
    "def build_hamiltonian():\n",
    "    \"\"\"Constroi a Hamiltoniana 6×6 do modelo de Hückel simples para a piridina.\"\"\"\n",
    "    H = np.zeros((6,6), dtype=float)\n",
    "\n",
    "    # Diagonais\n",
    "    for i in range(6):\n",
    "        if i == 0:      # índice 0 ↔ sítio 1 (N)\n",
    "            H[i,i] = ALPHA_N\n",
    "        else:           # sítios 2..6 (C)\n",
    "            H[i,i] = ALPHA_C\n",
    "\n",
    "    # Fora da diagonal: somente 1ºs vizinhos\n",
    "    for (a,b) in NEIGHBORS_1BASED:\n",
    "        i, j = a-1, b-1\n",
    "        # tipo de ligação (C–N ou C–C)\n",
    "        types = (SITE_TYPES[a], SITE_TYPES[b])\n",
    "        beta = BETA_CN if (\"N\" in types and \"C\" in types) else BETA_CC\n",
    "        H[i,j] = beta\n",
    "        H[j,i] = beta\n",
    "    return H\n",
    "\n",
    "H = build_hamiltonian()\n",
    "print(\"Hamiltoniana H (unid. β_CC):\\n\", H)"
   ]
  },
  {
   "cell_type": "markdown",
   "id": "6fe8b94a",
   "metadata": {},
   "source": [
    " **Explicação (etapa 1)**  \n",
    " Modelo de Hückel simples: mantemos apenas integrais de Coulomb (diagonais) e de\n",
    " ressonância (off-diagonal) entre orbitais p_z de **primeiros vizinhos**.\n",
    " O nitrogênio (sítio 1) tem α_N = +0.50 (mais eletronegativo), carbonos α_C = 0.00.\n",
    " As ligações C–C levam β_CC = −1.00 (define a unidade de energia) e as C–N\n",
    " β_CN = −0.90. Nada além dos 1ºs vizinhos entra na matriz (exatamente como pedido)."
   ]
  },
  {
   "cell_type": "markdown",
   "id": "c367eaa1",
   "metadata": {},
   "source": [
    "\n",
    "## 2) Diagonalização e ocupação eletrônica (6 elétrons π)\n",
    " - Usamos `numpy.linalg.eigh(H)` (matriz simétrica → autovalores em ordem crescente)\n",
    " - Ocupamos 6 elétrons: 2 por MO → 3 orbitais mais baixos preenchidos\n",
    " - Identificamos HOMO (último ocupado), LUMO (primeiro desocupado) e calculamos E_gap"
   ]
  },
  {
   "cell_type": "code",
   "execution_count": 20,
   "id": "7de643db",
   "metadata": {},
   "outputs": [
    {
     "name": "stdout",
     "output_type": "stream",
     "text": [
      "Autovalores (E_μ, unid. β_CC):\n",
      " [-1.88719505 -1.         -0.75738947  1.          1.11916415  2.02542037]\n",
      "HOMO = nível 3, LUMO = nível 4, Egap = 1.7574\n"
     ]
    }
   ],
   "source": [
    "E, C = np.linalg.eigh(H)              # autovalores (E) e autovetores (colunas de C)\n",
    "occ = np.zeros_like(E)\n",
    "occ[:3] = 2.0                         # 3 MOs ocupadas com 2 elétrons cada (total 6)\n",
    "\n",
    "homo = 2                              # índice 0-based → 3º nível\n",
    "lumo = 3\n",
    "Egap = E[lumo] - E[homo]\n",
    "\n",
    "print(\"Autovalores (E_μ, unid. β_CC):\\n\", E)\n",
    "print(f\"HOMO = nível {homo+1}, LUMO = nível {lumo+1}, Egap = {Egap:.4f}\")"
   ]
  },
  {
   "cell_type": "markdown",
   "id": "bdffca7d",
   "metadata": {},
   "source": [
    " **Explicação (etapa 2)**  \n",
    " A rotina `eigh` é a mesma abordagem numérica das matrizes simétricas discutidas\n",
    " nas aulas (ex.: molas acopladas). Cada autovetor (coluna de `C`) define uma MO π,\n",
    " e `C[i,μ]` é o coeficiente da MO μ no sítio i. Com 6 elétrons, preenchemos os\n",
    " 3 níveis de menor energia (2 elétrons por nível). O **HOMO** é o 3º nível, o\n",
    " **LUMO** o 4º; a diferença **E_gap = E_LUMO − E_HOMO** será usada na discussão."
   ]
  },
  {
   "cell_type": "markdown",
   "id": "ea0ecceb",
   "metadata": {},
   "source": [
    "## 3) Observáveis: populações `q_i` e ordens de ligação π `p_ij`\n",
    " Fórmulas (somando sobre MOs **ocupadas**):\n",
    " - População por sítio:  q_i = Σ 2 |c_i^(μ)|²\n",
    " - Ordem de ligação π:   p_ij = Σ 2 c_i^(μ) c_j^(μ)   (apenas 1º vizinhos)"
   ]
  },
  {
   "cell_type": "code",
   "execution_count": 21,
   "id": "24243e0d",
   "metadata": {},
   "outputs": [
    {
     "name": "stdout",
     "output_type": "stream",
     "text": [
      "Populações q_i (i=1..6): [0.78242832 1.08447569 0.99541016 1.05779999 0.99541016 1.08447569]   soma = 5.999999999999997\n",
      "Ordens p_ij (1ºs vizinhos): {(1, 2): 1.2933236501906034, (2, 3): 1.3551617164501186, (3, 4): 1.3210385922467638, (4, 5): 1.3210385922467638, (5, 6): 1.355161716450118, (6, 1): 1.2933236501906034}\n"
     ]
    }
   ],
   "source": [
    "def site_populations(C, occ):\n",
    "    \"\"\"q_i = sum_occ 2*|c_i^μ|^2\"\"\"\n",
    "    return (np.abs(C)**2 @ occ)\n",
    "\n",
    "def bond_orders(C, occ):\n",
    "    \"\"\"p_ij = sum_occ 2*c_i^μ*c_j^μ para 1ºs vizinhos (pares 1-based).\"\"\"\n",
    "    P = {}\n",
    "    for (a,b) in NEIGHBORS_1BASED:\n",
    "        i, j = a-1, b-1\n",
    "        val = float(2.0 * np.sum(C[i,:] * C[j,:] * occ))\n",
    "        P[(a,b)] = val\n",
    "    return P\n",
    "\n",
    "q = site_populations(C, occ)\n",
    "P = bond_orders(C, occ)\n",
    "\n",
    "print(\"Populações q_i (i=1..6):\", q, \"  soma =\", np.sum(q))\n",
    "print(\"Ordens p_ij (1ºs vizinhos):\", P)"
   ]
  },
  {
   "cell_type": "markdown",
   "id": "ca874220",
   "metadata": {},
   "source": [
    "\n",
    " **Explicação (etapa 3)**  \n",
    " `q_i` mede a densidade eletrônica π acumulada no sítio i pelas MOs ocupadas;\n",
    " a soma **deve ser ≈ 6** (número total de elétrons π).  \n",
    " `p_ij` mede o compartilhamento eletrônico π entre vizinhos (apenas 1ºs vizinhos),\n",
    " útil para **comparar C–N vs C–C** na piridina. Valores maiores indicam mais\n",
    " caráter de ligação π; diferenças entre C–N e C–C devem aparecer devido a α_N e β_CN."
   ]
  },
  {
   "cell_type": "markdown",
   "id": "0cfca047",
   "metadata": {},
   "source": [
    " ## 4) Funções para gerar Figuras (PNG)\n",
    " - **Figura 1**: esquema do anel numerado (1 = N)  \n",
    " - **Figura 2**: espectro (stick plot), com HOMO/LUMO anotados  \n",
    " - **Figuras 6 e 7**: mapas “bolha” de HOMO e LUMO (raio ∝ |c_i|; marcador indica fase)"
   ]
  },
  {
   "cell_type": "code",
   "execution_count": 35,
   "id": "43972277",
   "metadata": {},
   "outputs": [],
   "source": [
    "import math\n",
    "from matplotlib.lines import Line2D\n",
    "\n",
    "def _ring_coords(n=6, R=1.0):\n",
    "    \"\"\"Coordenadas de n pontos igualmente espaçados num círculo (começando no +y, sentido horário).\"\"\"\n",
    "    angs = [math.pi/2 - 2*math.pi*k/n for k in range(n)]\n",
    "    xs = [R*math.cos(a) for a in angs]\n",
    "    ys = [R*math.sin(a) for a in angs]\n",
    "    return xs, ys\n",
    "\n",
    "def fig1_scheme(savepath):\n",
    "    xs, ys = _ring_coords(6, 1.0)\n",
    "    plt.figure()\n",
    "    # anel (liga pontos em ciclo)\n",
    "    for i in range(6):\n",
    "        j = (i+1) % 6\n",
    "        plt.plot([xs[i], xs[j]], [ys[i], ys[j]])\n",
    "    # marca nós\n",
    "    plt.scatter(xs, ys)\n",
    "    # numeração (1..6) e destaque do N\n",
    "    for i in range(6):\n",
    "        label = f\"{i+1}\" if i != 0 else \"1 (N)\"\n",
    "        plt.text(xs[i], ys[i], label, ha='center', va='center')\n",
    "    plt.axis('equal'); plt.axis('off')\n",
    "    plt.title(\"Figura 1 — Piridina numerada (1 = N)\")\n",
    "    plt.tight_layout()\n",
    "    plt.savefig(savepath, dpi=200); plt.close()\n",
    "\n",
    "def fig2_spectrum(E, homo, lumo, savepath):\n",
    "    plt.figure()\n",
    "    y0, y1 = 0.0, 1.0\n",
    "    for k, Ek in enumerate(E):\n",
    "        plt.vlines(Ek, y0, y1)\n",
    "    plt.text(E[homo], 1.05, \"HOMO\", ha=\"center\", rotation=90)\n",
    "    plt.text(E[lumo], 1.05, \"LUMO\", ha=\"center\", rotation=90)\n",
    "    plt.ylim(0, 1.2)\n",
    "    plt.xlim(np.min(E)-0.5, np.max(E)+0.5)\n",
    "    plt.yticks([])\n",
    "    plt.xlabel(\"Energia (unid. β_CC)\")\n",
    "    plt.title(\"Figura 2 — Espectro de Hückel (stick) com HOMO/LUMO\")\n",
    "    plt.tight_layout()\n",
    "    plt.savefig(savepath, dpi=200); plt.close()\n",
    "\n",
    "\n",
    "\n",
    "def fig_bubble(vec, title, savepath):\n",
    "    xs, ys = _ring_coords(6, 1.0)\n",
    "    mags = np.abs(vec)\n",
    "    sizes = 2000 * (mags / mags.max())**2 if mags.max() > 0 else np.ones_like(mags)*100\n",
    "    pos = [i for i in range(6) if vec[i] >= 0]\n",
    "    neg = [i for i in range(6) if vec[i] < 0]\n",
    "\n",
    "    plt.figure()\n",
    "    # anel\n",
    "    for i in range(6):\n",
    "        j = (i+1) % 6\n",
    "        plt.plot([xs[i], xs[j]], [ys[i], ys[j]])\n",
    "\n",
    "    # marcadores por fase (tamanho original)\n",
    "    plt.scatter([xs[i] for i in pos], [ys[i] for i in pos],\n",
    "                s=[sizes[i] for i in pos], marker='o', label='fase +')\n",
    "    plt.scatter([xs[i] for i in neg], [ys[i] for i in neg],\n",
    "                s=[sizes[i] for i in neg], marker='x', label='fase −')\n",
    "\n",
    "    # numeração (1 = N)\n",
    "    for i in range(6):\n",
    "        lab = f\"{i+1}\" if i != 0 else \"1 (N)\"\n",
    "        plt.text(xs[i], ys[i], lab, ha='center', va='center')\n",
    "\n",
    "    # legenda com símbolos 75% menores\n",
    "    legend_elements = [\n",
    "        Line2D([0],[0], marker='o', color='w', label='fase +',\n",
    "               markerfacecolor='C0', markersize=18),  # 75% do padrão (~8)\n",
    "        Line2D([0],[0], marker='x', color='C1', label='fase −',\n",
    "               markersize=18)                         # idem\n",
    "    ]\n",
    "    plt.legend(handles=legend_elements, loc='upper right')\n",
    "\n",
    "    plt.axis('equal'); plt.axis('off')\n",
    "    plt.title(title)\n",
    "    plt.tight_layout()\n",
    "    plt.savefig(savepath, dpi=200)\n",
    "    plt.close()"
   ]
  },
  {
   "cell_type": "markdown",
   "id": "375080f1",
   "metadata": {},
   "source": [
    "\n",
    " **Explicação (etapa 4 — figuras)**  \n",
    " - **Esquema numerado (Fig. 1)**: mostra a convenção 1 = N, essencial para ler tabelas/coeficientes.  \n",
    " - **Espectro (Fig. 2)**: cada linha vertical é um autovalor E_μ; HOMO/LUMO anotados.\n",
    " A leitura facilita a identificação de lacuna E_gap e a ocupação.  \n",
    " - **Mapas “bolha” (Fig. 6 e Fig. 7)**: área ∝ |c_i|² evidencia onde a MO concentra densidade;\n",
    " o marcador `o/x` distingue a **fase** (sinal) do coeficiente — importante para entender\n",
    " ordens de ligação (produtos c_i c_j nos vizinhos)."
   ]
  },
  {
   "cell_type": "markdown",
   "id": "ab8df426",
   "metadata": {},
   "source": [
    " ## 5) Exportar Tabelas (CSV) e salvar Figuras (PNG)\n",
    " - Tabela 2: autovalores e ocupações (com flags HOMO/LUMO e E_gap no rodapé)\n",
    " - Tabela 4: populações q_i por sítio (verificação Σ_i q_i ≈ 6)\n",
    " - Tabela 5: ordens p_ij em 1ºs vizinhos (separar C–N e C–C)\n",
    " - Fig. 1, Fig. 2, Fig. 6 (HOMO), Fig. 7 (LUMO)"
   ]
  },
  {
   "cell_type": "code",
   "execution_count": 36,
   "id": "474bb009",
   "metadata": {},
   "outputs": [
    {
     "name": "stdout",
     "output_type": "stream",
     "text": [
      "Arquivos gerados em:\n",
      " - c:\\Users\\Gabriel Simarelli\\Desktop\\projeto\\Artigo\\figures \n",
      " - c:\\Users\\Gabriel Simarelli\\Desktop\\projeto\\Artigo\\tables\n"
     ]
    }
   ],
   "source": [
    "# %%\n",
    "def save_tables_and_figures():\n",
    "    # --- Tabelas ---\n",
    "    idx = np.arange(1, 7)\n",
    "    if USE_PANDAS:\n",
    "        import pandas as pd\n",
    "        df_eig = pd.DataFrame({\n",
    "            \"mu\": idx,\n",
    "            \"E_mu (β_CC)\": E,\n",
    "            \"occupation\": occ,\n",
    "            \"is_HOMO\": [i==(homo+1) for i in idx],\n",
    "            \"is_LUMO\": [i==(lumo+1) for i in idx],\n",
    "        })\n",
    "        df_pop = pd.DataFrame({\n",
    "            \"site\": idx,\n",
    "            \"type\": [SITE_TYPES[i] for i in idx],\n",
    "            \"q_i\": q\n",
    "        })\n",
    "        # bond orders\n",
    "        bonds = []\n",
    "        for (a,b), val in P.items():\n",
    "            btype = \"C–N\" if (\"N\" in (SITE_TYPES[a], SITE_TYPES[b])) else \"C–C\"\n",
    "            bonds.append({\"bond (i,j)\": f\"({a},{b})\", \"type\": btype, \"p_ij\": val})\n",
    "        df_bond = pd.DataFrame(bonds)\n",
    "\n",
    "        df_eig.to_csv(TAB / \"eigenvalues.csv\", index=False)\n",
    "        df_pop.to_csv(TAB / \"populations.csv\", index=False)\n",
    "        df_bond.to_csv(TAB / \"bond_orders.csv\", index=False)\n",
    "\n",
    "        # guarda Egap em arquivo txt simples para referência rápida\n",
    "        (TAB / \"gap_info.txt\").write_text(f\"Egap (β_CC) = {Egap:.6f}\\n\", encoding=\"utf-8\")\n",
    "    else:\n",
    "        # fallback sem pandas\n",
    "        np.savetxt(TAB / \"eigenvalues.csv\",\n",
    "                   np.c_[idx, E, occ],\n",
    "                   delimiter=\",\", header=\"mu,E_mu(β_CC),occupation\", comments=\"\")\n",
    "        np.savetxt(TAB / \"populations.csv\",\n",
    "                   np.c_[idx, [0 if i!=1 else 1 for i in idx], q],\n",
    "                   delimiter=\",\", header=\"site,isN(1=N),q_i\", comments=\"\")\n",
    "        with open(TAB / \"bond_orders.csv\", \"w\", encoding=\"utf-8\") as f:\n",
    "            f.write(\"bond(i,j),type,p_ij\\n\")\n",
    "            for (a,b), val in P.items():\n",
    "                btype = \"C–N\" if (\"N\" in (SITE_TYPES[a], SITE_TYPES[b])) else \"C–C\"\n",
    "                f.write(f\"({a},{b}),{btype},{val}\\n\")\n",
    "        (TAB / \"gap_info.txt\").write_text(f\"Egap (β_CC) = {Egap:.6f}\\n\", encoding=\"utf-8\")\n",
    "\n",
    "    # --- Figuras ---\n",
    "    fig1_scheme(FIG / \"fig1_scheme_pyridine.png\")\n",
    "    fig2_spectrum(E, homo, lumo, FIG / \"fig2_spectrum_stick.png\")\n",
    "    fig_bubble(C[:, homo], \"Figura 6 — Mapa HOMO (raio ∝ |c_i|; fase em marcador)\", FIG / \"fig6_map_HOMO.png\")\n",
    "    fig_bubble(C[:, lumo], \"Figura 7 — Mapa LUMO (raio ∝ |c_i|; fase em marcador)\", FIG / \"fig7_map_LUMO.png\")\n",
    "\n",
    "save_tables_and_figures()\n",
    "print(\"Arquivos gerados em:\\n -\", FIG, \"\\n -\", TAB)"
   ]
  },
  {
   "cell_type": "markdown",
   "id": "fad3c62c",
   "metadata": {},
   "source": [
    " **Explicação (etapa 5 — exportação e interpretação das imagens)**  \n",
    " - **Tabela eigenvalues.csv**: lista E_μ (β_CC), ocupações (2 ou 0) e flags HOMO/LUMO.  \n",
    " - **Tabela populations.csv**: `q_i` por sítio; verifique que Σ q_i ≈ 6 (fechado).  \n",
    " - **Tabela bond_orders.csv**: `p_ij` para (1,2), (2,3), ..., (6,1), com coluna `type` (C–N ou C–C).  \n",
    " - **Figura 1**: apenas a numeração (1 = N) para referência visual no texto.  \n",
    " - **Figura 2**: “sticks” nos autovalores; HOMO/LUMO anotados — a leitura visual ajuda a reportar **E_gap**.  \n",
    " - **Fig. 6 e 7**: bolhas maiores onde |c_i| é maior; `o` indica fase positiva e `x` fase negativa.\n",
    "   A alternância de fase entre vizinhos é chave para o sinal de `p_ij` (produto c_i c_j)."
   ]
  }
 ],
 "metadata": {
  "kernelspec": {
   "display_name": "Python 3",
   "language": "python",
   "name": "python3"
  },
  "language_info": {
   "codemirror_mode": {
    "name": "ipython",
    "version": 3
   },
   "file_extension": ".py",
   "mimetype": "text/x-python",
   "name": "python",
   "nbconvert_exporter": "python",
   "pygments_lexer": "ipython3",
   "version": "3.13.4"
  }
 },
 "nbformat": 4,
 "nbformat_minor": 5
}
